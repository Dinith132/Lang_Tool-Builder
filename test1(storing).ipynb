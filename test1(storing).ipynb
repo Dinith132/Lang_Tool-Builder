{
 "cells": [
  {
   "cell_type": "code",
   "execution_count": 16,
   "id": "ab55b00f",
   "metadata": {},
   "outputs": [],
   "source": [
    "sub = '\\n@tool\\ndef subtract(input: str) -> float:\\n    \"\"\"\\n    Subtracts two numbers.\\n\\n    The input should be a string containing two numbers separated by a comma (e.g., \"5,3\").\\n    Returns the result of subtracting the second number from the first.\\n    \"\"\"\\n    a, b = map(float, input.split(\",\"))\\n    return a - b'\n",
    "\n",
    "yaml_content_sub = \"\"\"\n",
    "  - name: \"subtract\"\n",
    "    module: \"tools.math_tools\"\n",
    "    function: \"subtract\"\n",
    "    description: \"Subtract two numbers from string 'a,b'\"\n",
    "\"\"\""
   ]
  },
  {
   "cell_type": "code",
   "execution_count": 17,
   "id": "4166471f",
   "metadata": {},
   "outputs": [],
   "source": [
    "add = '\\n@tool\\ndef addition(input: str) -> float:\\n    \"\"\"\\n    Add two numbers.\\n\\n    The input should be a string containing two numbers separated by a comma (e.g., \"5,3\").\\n    Returns the result of added the first number and second.\\n    \"\"\"\\n    a, b = map(float, input.split(\",\"))\\n    return a + b'\n",
    "\n",
    "yaml_content_add = \"\"\"\n",
    "\n",
    "  - name: \"addition\"\n",
    "    module: \"tools.math_tools\"\n",
    "    function: \"addition\"\n",
    "    description: \"Add two numbers from string 'a,b'\"\n",
    "\"\"\""
   ]
  },
  {
   "cell_type": "code",
   "execution_count": 18,
   "id": "2553f8d6",
   "metadata": {},
   "outputs": [],
   "source": [
    "import os\n",
    "\n",
    "os.makedirs(\"tools\", exist_ok=True)\n",
    "os.makedirs(\"configs\", exist_ok=True)\n",
    "\n"
   ]
  },
  {
   "cell_type": "code",
   "execution_count": null,
   "id": "385f26ab",
   "metadata": {},
   "outputs": [],
   "source": []
  },
  {
   "cell_type": "code",
   "execution_count": 19,
   "id": "6f924dc6",
   "metadata": {},
   "outputs": [],
   "source": [
    "with open(\"tools/math_tools.py\", \"a\") as f:\n",
    "    f.write(sub)\n",
    "\n",
    "with open(\"configs/tools.yaml\", \"a\") as f:\n",
    "    f.write(yaml_content_sub)"
   ]
  },
  {
   "cell_type": "code",
   "execution_count": 20,
   "id": "74a50b23",
   "metadata": {},
   "outputs": [],
   "source": [
    "with open(\"tools/math_tools.py\", \"a\") as f:\n",
    "    f.write(add)\n",
    "\n",
    "with open(\"configs/tools.yaml\", \"a\") as f:\n",
    "    f.write(yaml_content_add)"
   ]
  }
 ],
 "metadata": {
  "kernelspec": {
   "display_name": ".venv (3.13.5)",
   "language": "python",
   "name": "python3"
  },
  "language_info": {
   "codemirror_mode": {
    "name": "ipython",
    "version": 3
   },
   "file_extension": ".py",
   "mimetype": "text/x-python",
   "name": "python",
   "nbconvert_exporter": "python",
   "pygments_lexer": "ipython3",
   "version": "3.13.5"
  }
 },
 "nbformat": 4,
 "nbformat_minor": 5
}
