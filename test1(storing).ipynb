{
 "cells": [
  {
   "cell_type": "code",
   "execution_count": 3,
   "id": "ab55b00f",
   "metadata": {},
   "outputs": [],
   "source": [
    "k = 'def subtract(input: str) -> float:\\n    \"\"\"\\n    Subtracts two numbers.\\n\\n    The input should be a string containing two numbers separated by a comma (e.g., \"5,3\").\\n    Returns the result of subtracting the second number from the first.\\n    \"\"\"\\n    a, b = map(float, input.split(\",\"))\\n    return a - b'"
   ]
  },
  {
   "cell_type": "code",
   "execution_count": 4,
   "id": "c9171f26",
   "metadata": {},
   "outputs": [],
   "source": [
    "yaml_content = \"\"\"\n",
    "tools:\n",
    "  - name: \"subtract\"\n",
    "    module: \"tools.math_tools\"\n",
    "    function: \"subtract\"\n",
    "    description: \"Subtract two numbers from string 'a,b'\"\n",
    "\"\"\""
   ]
  },
  {
   "cell_type": "code",
   "execution_count": 5,
   "id": "b6e279e0",
   "metadata": {},
   "outputs": [],
   "source": [
    "import os\n",
    "\n",
    "os.makedirs(\"tools\", exist_ok=True)\n",
    "\n",
    "with open(\"tools/math_tools.py\", \"w\") as f:\n",
    "    f.write(k)\n"
   ]
  },
  {
   "cell_type": "code",
   "execution_count": 6,
   "id": "227e2e7c",
   "metadata": {},
   "outputs": [],
   "source": [
    "import os\n",
    "\n",
    "os.makedirs(\"configs\", exist_ok=True)\n",
    "\n",
    "with open(\"configs/tools.yaml\", \"w\") as f:\n",
    "    f.write(yaml_content)\n"
   ]
  },
  {
   "cell_type": "code",
   "execution_count": null,
   "id": "4166471f",
   "metadata": {},
   "outputs": [],
   "source": []
  }
 ],
 "metadata": {
  "kernelspec": {
   "display_name": ".venv",
   "language": "python",
   "name": "python3"
  },
  "language_info": {
   "codemirror_mode": {
    "name": "ipython",
    "version": 3
   },
   "file_extension": ".py",
   "mimetype": "text/x-python",
   "name": "python",
   "nbconvert_exporter": "python",
   "pygments_lexer": "ipython3",
   "version": "3.13.5"
  }
 },
 "nbformat": 4,
 "nbformat_minor": 5
}
