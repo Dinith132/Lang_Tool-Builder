{
 "cells": [
  {
   "cell_type": "code",
   "execution_count": null,
   "id": "f8c106df",
   "metadata": {},
   "outputs": [],
   "source": []
  },
  {
   "cell_type": "code",
   "execution_count": 1,
   "id": "643fc9b4",
   "metadata": {},
   "outputs": [
    {
     "name": "stdout",
     "output_type": "stream",
     "text": [
      "Working directory: /media/dinith/Academic/Next/gai/test1\n",
      "sys.path: ['/media/dinith/Academic/Next/gai/test1', '/usr/lib/python313.zip', '/usr/lib/python3.13', '/usr/lib/python3.13/lib-dynload', '', '/media/dinith/Academic/.venv/lib/python3.13/site-packages']\n"
     ]
    }
   ],
   "source": [
    "# notebook.ipynb\n",
    "# Cell 1: Imports and Setup\n",
    "import os\n",
    "import sys\n",
    "import yaml\n",
    "import importlib\n",
    "import time\n",
    "import shutil\n",
    "from tool_registry import ToolRegistry\n",
    "from langchain_core.tools import StructuredTool\n",
    "\n",
    "# Set working directory to project root (adjust path if notebook is elsewhere)\n",
    "project_root = os.path.abspath(os.path.dirname(os.getcwd()))  # Assumes notebook is in project_root/\n",
    "os.chdir(project_root)\n",
    "sys.path.insert(0, project_root)  # Ensure project_root is in sys.path\n",
    "print(f\"Working directory: {os.getcwd()}\")\n",
    "print(f\"sys.path: {sys.path}\")\n"
   ]
  },
  {
   "cell_type": "code",
   "execution_count": 2,
   "id": "b92cd7f9",
   "metadata": {},
   "outputs": [],
   "source": [
    "\n",
    "# Cell 2: ToolRegistry Definition (if not in tool_registry.py)\n",
    "# Skip this cell if tool_registry.py exists\n",
    "class ToolRegistry:\n",
    "    _tools: dict = {}\n",
    "\n",
    "    @classmethod\n",
    "    def register(cls, func) -> callable:\n",
    "        \"\"\"Register a function or StructuredTool as a tool.\"\"\"\n",
    "        if isinstance(func, StructuredTool):\n",
    "            tool_name = func.name\n",
    "        else:\n",
    "            tool_name = func.__name__\n",
    "        cls._tools[tool_name] = func\n",
    "        print(f\"Registered tool: {tool_name}\")\n",
    "        return func\n",
    "\n",
    "    @classmethod\n",
    "    def get_tools(cls) -> list:\n",
    "        \"\"\"Return all registered tools.\"\"\"\n",
    "        return list(cls._tools.values())\n",
    "\n",
    "    @classmethod\n",
    "    def get_tool(cls, name: str) -> callable:\n",
    "        \"\"\"Get a tool by name.\"\"\"\n",
    "        return cls._tools.get(name)"
   ]
  },
  {
   "cell_type": "code",
   "execution_count": 3,
   "id": "636c965e",
   "metadata": {},
   "outputs": [],
   "source": [
    "# Cell 3: Write Tool File (if generating programmatically)\n",
    "def write_tool_file():\n",
    "    \"\"\"Write tools/math_tools.py programmatically.\"\"\"\n",
    "    code = \"\"\"\n",
    "from tool_registry import ToolRegistry\n",
    "from langchain_core.tools import tool\n",
    "\n",
    "@ToolRegistry.register\n",
    "@tool\n",
    "def subtract(input: str) -> float:\n",
    "    \\\"\"\"Subtract two numbers from string 'a,b'.\\\"\"\"\n",
    "    a, b = map(float, input.split(\",\"))\n",
    "    return a - b\n",
    "\n",
    "@ToolRegistry.register\n",
    "@tool\n",
    "def addition(input: str) -> float:\n",
    "    \\\"\"\"Add two numbers from string 'a,b'.\\\"\"\"\n",
    "    a, b = map(float, input.split(\",\"))\n",
    "    return a + b\n",
    "\"\"\"\n",
    "    os.makedirs(\"tools\", exist_ok=True)\n",
    "    with open(\"tools/math_tools.py\", \"w\") as f:\n",
    "        f.write(code)\n",
    "        f.flush()\n",
    "        os.fsync(f.fileno())\n",
    "    time.sleep(0.2)  # Increased delay for notebook environment\n",
    "    if not os.path.exists(\"tools/math_tools.py\"):\n",
    "        raise FileNotFoundError(\"Failed to create tools/math_tools.py\")\n"
   ]
  },
  {
   "cell_type": "code",
   "execution_count": 4,
   "id": "b76cca80",
   "metadata": {},
   "outputs": [],
   "source": [
    "\n",
    "\n",
    "\n",
    "# Cell 4: Clear Cache and Load Tools\n",
    "def clear_pycache():\n",
    "    \"\"\"Clear stale .pyc files.\"\"\"\n",
    "    if os.path.exists(\"tools/__pycache__\"):\n",
    "        shutil.rmtree(\"tools/__pycache__\")\n",
    "\n",
    "def load_tools_from_yaml(config_path: str) -> list:\n",
    "    \"\"\"Load tools from YAML config using ToolRegistry.\"\"\"\n",
    "    clear_pycache()  # Clear stale .pyc files\n",
    "    if not os.path.exists(config_path):\n",
    "        raise FileNotFoundError(f\"Config file {config_path} not found\")\n",
    "    time.sleep(0.2)  # Increased delay for notebook\n",
    "\n",
    "    with open(config_path, 'r') as f:\n",
    "        config = yaml.safe_load(f)\n",
    "\n",
    "    if not config or 'tools' not in config:\n",
    "        raise ValueError(\"Invalid YAML config: 'tools' key missing\")\n",
    "\n",
    "    tools = []\n",
    "    for tool_config in config['tools']:\n",
    "        module_name = tool_config.get('module')\n",
    "        try:\n",
    "            if module_name in sys.modules:\n",
    "                importlib.reload(sys.modules[module_name])\n",
    "            importlib.import_module(module_name)\n",
    "        except ImportError as e:\n",
    "            print(f\"Error importing module {module_name}: {e}\")\n",
    "            continue\n",
    "\n",
    "        tool_name = tool_config.get('name')\n",
    "        func = ToolRegistry.get_tool(tool_name)\n",
    "        if func is None:\n",
    "            print(f\"Tool '{tool_name}' not found in registry\")\n",
    "            continue\n",
    "        tools.append(func)\n",
    "\n",
    "    return tools\n"
   ]
  },
  {
   "cell_type": "code",
   "execution_count": 5,
   "id": "3704c557",
   "metadata": {},
   "outputs": [],
   "source": [
    "write_tool_file()  # Generate tools/math_tools.py"
   ]
  },
  {
   "cell_type": "code",
   "execution_count": 6,
   "id": "f9b8446a",
   "metadata": {},
   "outputs": [
    {
     "name": "stdout",
     "output_type": "stream",
     "text": [
      "Tool 'subtract' not found in registry\n",
      "Tool 'addition' not found in registry\n",
      "Loaded tools: []\n"
     ]
    }
   ],
   "source": [
    "\n",
    "# Cell 5: Run the Workflow\n",
    "\n",
    "tools = load_tools_from_yaml(\"/media/dinith/Academic/Next/gai/test1/way2/tools.yaml\")\n",
    "print(f\"Loaded tools: {[t.name if hasattr(t, 'name') else t.__name__ for t in tools]}\")"
   ]
  },
  {
   "cell_type": "code",
   "execution_count": null,
   "id": "c204d645",
   "metadata": {},
   "outputs": [],
   "source": []
  },
  {
   "cell_type": "code",
   "execution_count": null,
   "id": "60b58016",
   "metadata": {},
   "outputs": [
    {
     "ename": "FileNotFoundError",
     "evalue": "Config file config.yaml not found",
     "output_type": "error",
     "traceback": [
      "\u001b[31m---------------------------------------------------------------------------\u001b[39m",
      "\u001b[31mFileNotFoundError\u001b[39m                         Traceback (most recent call last)",
      "\u001b[36mCell\u001b[39m\u001b[36m \u001b[39m\u001b[32mIn[3]\u001b[39m\u001b[32m, line 72\u001b[39m\n\u001b[32m     70\u001b[39m \u001b[38;5;66;03m# Cell 5: Run the Workflow\u001b[39;00m\n\u001b[32m     71\u001b[39m write_tool_file()  \u001b[38;5;66;03m# Generate tools/math_tools.py\u001b[39;00m\n\u001b[32m---> \u001b[39m\u001b[32m72\u001b[39m tools = \u001b[43mload_tools_from_yaml\u001b[49m\u001b[43m(\u001b[49m\u001b[33;43m\"\u001b[39;49m\u001b[33;43mconfig.yaml\u001b[39;49m\u001b[33;43m\"\u001b[39;49m\u001b[43m)\u001b[49m\n\u001b[32m     73\u001b[39m \u001b[38;5;28mprint\u001b[39m(\u001b[33mf\u001b[39m\u001b[33m\"\u001b[39m\u001b[33mLoaded tools: \u001b[39m\u001b[38;5;132;01m{\u001b[39;00m[t.name\u001b[38;5;250m \u001b[39m\u001b[38;5;28;01mif\u001b[39;00m\u001b[38;5;250m \u001b[39m\u001b[38;5;28mhasattr\u001b[39m(t,\u001b[38;5;250m \u001b[39m\u001b[33m'\u001b[39m\u001b[33mname\u001b[39m\u001b[33m'\u001b[39m)\u001b[38;5;250m \u001b[39m\u001b[38;5;28;01melse\u001b[39;00m\u001b[38;5;250m \u001b[39mt.\u001b[34m__name__\u001b[39m\u001b[38;5;250m \u001b[39m\u001b[38;5;28;01mfor\u001b[39;00m\u001b[38;5;250m \u001b[39mt\u001b[38;5;250m \u001b[39m\u001b[38;5;129;01min\u001b[39;00m\u001b[38;5;250m \u001b[39mtools]\u001b[38;5;132;01m}\u001b[39;00m\u001b[33m\"\u001b[39m)\n",
      "\u001b[36mCell\u001b[39m\u001b[36m \u001b[39m\u001b[32mIn[3]\u001b[39m\u001b[32m, line 41\u001b[39m, in \u001b[36mload_tools_from_yaml\u001b[39m\u001b[34m(config_path)\u001b[39m\n\u001b[32m     39\u001b[39m clear_pycache()  \u001b[38;5;66;03m# Clear stale .pyc files\u001b[39;00m\n\u001b[32m     40\u001b[39m \u001b[38;5;28;01mif\u001b[39;00m \u001b[38;5;129;01mnot\u001b[39;00m os.path.exists(config_path):\n\u001b[32m---> \u001b[39m\u001b[32m41\u001b[39m     \u001b[38;5;28;01mraise\u001b[39;00m \u001b[38;5;167;01mFileNotFoundError\u001b[39;00m(\u001b[33mf\u001b[39m\u001b[33m\"\u001b[39m\u001b[33mConfig file \u001b[39m\u001b[38;5;132;01m{\u001b[39;00mconfig_path\u001b[38;5;132;01m}\u001b[39;00m\u001b[33m not found\u001b[39m\u001b[33m\"\u001b[39m)\n\u001b[32m     42\u001b[39m time.sleep(\u001b[32m0.2\u001b[39m)  \u001b[38;5;66;03m# Increased delay for notebook\u001b[39;00m\n\u001b[32m     44\u001b[39m \u001b[38;5;28;01mwith\u001b[39;00m \u001b[38;5;28mopen\u001b[39m(config_path, \u001b[33m'\u001b[39m\u001b[33mr\u001b[39m\u001b[33m'\u001b[39m) \u001b[38;5;28;01mas\u001b[39;00m f:\n",
      "\u001b[31mFileNotFoundError\u001b[39m: Config file config.yaml not found"
     ]
    }
   ],
   "source": []
  },
  {
   "cell_type": "code",
   "execution_count": null,
   "id": "ee91f90c",
   "metadata": {},
   "outputs": [
    {
     "ename": "NameError",
     "evalue": "name '__file__' is not defined",
     "output_type": "error",
     "traceback": [
      "\u001b[31m---------------------------------------------------------------------------\u001b[39m",
      "\u001b[31mNameError\u001b[39m                                 Traceback (most recent call last)",
      "\u001b[36mCell\u001b[39m\u001b[36m \u001b[39m\u001b[32mIn[1]\u001b[39m\u001b[32m, line 11\u001b[39m\n\u001b[32m      8\u001b[39m \u001b[38;5;28;01mfrom\u001b[39;00m\u001b[38;5;250m \u001b[39m\u001b[34;01mtool_registry\u001b[39;00m\u001b[38;5;250m \u001b[39m\u001b[38;5;28;01mimport\u001b[39;00m ToolRegistry\n\u001b[32m     10\u001b[39m \u001b[38;5;66;03m# Add project root to sys.path\u001b[39;00m\n\u001b[32m---> \u001b[39m\u001b[32m11\u001b[39m project_root = os.path.abspath(os.path.dirname(\u001b[34;43m__file__\u001b[39;49m))\n\u001b[32m     12\u001b[39m sys.path.insert(\u001b[32m0\u001b[39m, project_root)\n\u001b[32m     14\u001b[39m \u001b[38;5;28;01mdef\u001b[39;00m\u001b[38;5;250m \u001b[39m\u001b[34mwrite_tool_file\u001b[39m():\n",
      "\u001b[31mNameError\u001b[39m: name '__file__' is not defined"
     ]
    }
   ],
   "source": [
    "# # main.py\n",
    "# import os\n",
    "# import sys\n",
    "# import yaml\n",
    "# import importlib\n",
    "# import time\n",
    "# import shutil\n",
    "# from tool_registry import ToolRegistry\n",
    "\n",
    "# # Add project root to sys.path\n",
    "# project_root = os.path.abspath(os.path.dirname(__file__))\n",
    "# sys.path.insert(0, project_root)\n",
    "\n",
    "# def write_tool_file():\n",
    "#     \"\"\"Write tools/math_tools.py programmatically.\"\"\"\n",
    "#     code = \"\"\"\n",
    "# from tool_registry import ToolRegistry\n",
    "# from langchain_core.tools import tool\n",
    "\n",
    "# @ToolRegistry.register\n",
    "# @tool\n",
    "# def subtract(input: str) -> float:\n",
    "#     \\\"\"\"Subtract two numbers from string 'a,b'.\\\"\"\"\n",
    "#     a, b = map(float, input.split(\",\"))\n",
    "#     return a - b\n",
    "\n",
    "# @ToolRegistry.register\n",
    "# @tool\n",
    "# def addition(input: str) -> float:\n",
    "#     \\\"\"\"Add two numbers from string 'a,b'.\\\"\"\"\n",
    "#     a, b = map(float, input.split(\",\"))\n",
    "#     return a + b\n",
    "# \"\"\"\n",
    "#     os.makedirs(\"tools\", exist_ok=True)\n",
    "#     with open(\"tools/math_tools.py\", \"w\") as f:\n",
    "#         f.write(code)\n",
    "#         f.flush()\n",
    "#         os.fsync(f.fileno())\n",
    "#     time.sleep(0.1)  # Ensure file system settles\n",
    "\n",
    "# def clear_pycache():\n",
    "#     \"\"\"Clear stale .pyc files.\"\"\"\n",
    "#     if os.path.exists(\"tools/__pycache__\"):\n",
    "#         shutil.rmtree(\"tools/__pycache__\")\n",
    "\n",
    "# def load_tools_from_yaml(config_path: str) -> list:\n",
    "#     \"\"\"Load tools from YAML config using ToolRegistry.\"\"\"\n",
    "#     clear_pycache()  # Clear stale .pyc files\n",
    "#     if not os.path.exists(config_path):\n",
    "#         raise FileNotFoundError(f\"Config file {config_path} not found\")\n",
    "#     time.sleep(0.1)  # File system delay\n",
    "\n",
    "#     with open(config_path, 'r') as f:\n",
    "#         config = yaml.safe_load(f)\n",
    "\n",
    "#     if not config or 'tools' not in config:\n",
    "#         raise ValueError(\"Invalid YAML config: 'tools' key missing\")\n",
    "\n",
    "#     tools = []\n",
    "#     for tool_config in config['tools']:\n",
    "#         module_name = tool_config.get('module')\n",
    "#         try:\n",
    "#             if module_name in sys.modules:\n",
    "#                 importlib.reload(sys.modules[module_name])\n",
    "#             importlib.import_module(module_name)\n",
    "#         except ImportError as e:\n",
    "#             print(f\"Error importing module {module_name}: {e}\")\n",
    "#             continue\n",
    "\n",
    "#         tool_name = tool_config.get('name')\n",
    "#         func = ToolRegistry.get_tool(tool_name)\n",
    "#         if func is None:\n",
    "#             print(f\"Tool '{tool_name}' not found in registry\")\n",
    "#             continue\n",
    "#         tools.append(func)\n",
    "\n",
    "#     return tools\n",
    "\n",
    "# # Example usage\n",
    "# if __name__ == \"__main__\":\n",
    "#     # write_tool_file()  # Generate tools/math_tools.py\n",
    "#     tools = load_tools_from_yaml(\"config.yaml\")\n",
    "#     print(f\"Loaded tools: {[t.name if hasattr(t, 'name') else t.__name__ for t in tools]}\")"
   ]
  },
  {
   "cell_type": "code",
   "execution_count": null,
   "id": "4362674d",
   "metadata": {},
   "outputs": [],
   "source": []
  }
 ],
 "metadata": {
  "kernelspec": {
   "display_name": ".venv (3.13.5)",
   "language": "python",
   "name": "python3"
  },
  "language_info": {
   "codemirror_mode": {
    "name": "ipython",
    "version": 3
   },
   "file_extension": ".py",
   "mimetype": "text/x-python",
   "name": "python",
   "nbconvert_exporter": "python",
   "pygments_lexer": "ipython3",
   "version": "3.13.5"
  }
 },
 "nbformat": 4,
 "nbformat_minor": 5
}
