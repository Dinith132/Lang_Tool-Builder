{
 "cells": [
  {
   "cell_type": "code",
   "execution_count": 12,
   "id": "baa738fe",
   "metadata": {},
   "outputs": [],
   "source": [
    "import os\n",
    "import yaml\n",
    "import importlib.util\n",
    "\n",
    "def load_tools_from_registry(registry_path=\"tools/tool_registry.yaml\"):\n",
    "    \"\"\"\n",
    "    Loads all tools listed in the metadata registry and returns them as a list of callable functions.\n",
    "    Assumes all tools are defined in Python files and decorated with @tool.\n",
    "    \"\"\"\n",
    "    if not os.path.exists(registry_path):\n",
    "        print(f\"⚠️ Registry file not found: {registry_path}\")\n",
    "        return []\n",
    "\n",
    "    with open(registry_path) as f:\n",
    "        registry = yaml.safe_load(f) or []\n",
    "\n",
    "    loaded_tools = []\n",
    "\n",
    "    for entry in registry:\n",
    "        tool_name = entry.get(\"name\")\n",
    "        tool_file = entry.get(\"saved_in\")\n",
    "\n",
    "        if not tool_name or not tool_file:\n",
    "            print(f\"❌ Invalid entry in registry: {entry}\")\n",
    "            continue\n",
    "\n",
    "        # Convert path to module name\n",
    "        module_name = tool_file.replace(\"/\", \".\").replace(\".py\", \"\")\n",
    "\n",
    "        # Dynamically import the module\n",
    "        try:\n",
    "            spec = importlib.util.spec_from_file_location(module_name, tool_file)\n",
    "            module = importlib.util.module_from_spec(spec)\n",
    "            spec.loader.exec_module(module)\n",
    "\n",
    "            # Get the tool by name\n",
    "            tool_fn = getattr(module, tool_name)\n",
    "            loaded_tools.append(tool_fn)\n",
    "            print(f\"✅ Loaded tool: {tool_name}\")\n",
    "\n",
    "        except Exception as e:\n",
    "            print(f\"❌ Failed to load tool '{tool_name}' from '{tool_file}': {e}\")\n",
    "\n",
    "    return loaded_tools\n"
   ]
  },
  {
   "cell_type": "code",
   "execution_count": 13,
   "id": "96fe6d00",
   "metadata": {},
   "outputs": [
    {
     "name": "stdout",
     "output_type": "stream",
     "text": [
      "❌ Failed to load tool 'compound_interest_calculator' from 'tools/generated_tools.py': name 'tool' is not defined\n",
      "❌ Failed to load tool 'calculate_bmi' from 'tools/generated_tools.py': name 'tool' is not defined\n"
     ]
    }
   ],
   "source": [
    "# from load_tools_from_registry import load_tools_from_registry\n",
    "\n",
    "# Load all generated tools\n",
    "dynamic_tools = load_tools_from_registry()\n",
    "\n",
    "# Register with agent or toolkit\n",
    "# Example with OpenAI LangChain agent:\n",
    "# agent = initialize_agent(tools=dynamic_tools + [search_tool, tool_generator], ...)\n"
   ]
  },
  {
   "cell_type": "code",
   "execution_count": 11,
   "id": "3879d320",
   "metadata": {},
   "outputs": [
    {
     "data": {
      "text/plain": [
       "[]"
      ]
     },
     "execution_count": 11,
     "metadata": {},
     "output_type": "execute_result"
    }
   ],
   "source": [
    "generated_tools"
   ]
  },
  {
   "cell_type": "code",
   "execution_count": 3,
   "id": "85173b00",
   "metadata": {},
   "outputs": [
    {
     "ename": "NameError",
     "evalue": "name 'tool' is not defined",
     "output_type": "error",
     "traceback": [
      "\u001b[31m---------------------------------------------------------------------------\u001b[39m",
      "\u001b[31mNameError\u001b[39m                                 Traceback (most recent call last)",
      "\u001b[36mCell\u001b[39m\u001b[36m \u001b[39m\u001b[32mIn[3]\u001b[39m\u001b[32m, line 2\u001b[39m\n\u001b[32m      1\u001b[39m \u001b[38;5;28;01mimport\u001b[39;00m\u001b[38;5;250m \u001b[39m\u001b[34;01mimportlib\u001b[39;00m\n\u001b[32m----> \u001b[39m\u001b[32m2\u001b[39m \u001b[38;5;28;01mimport\u001b[39;00m\u001b[38;5;250m \u001b[39m\u001b[34;01mtools\u001b[39;00m\u001b[34;01m.\u001b[39;00m\u001b[34;01mgenerated_tools\u001b[39;00m\n\u001b[32m      4\u001b[39m importlib.reload(tools.generated_tools)\n\u001b[32m      5\u001b[39m generated_tools = load_generated_tools(\u001b[33m\"\u001b[39m\u001b[33mtools.generated_tools\u001b[39m\u001b[33m\"\u001b[39m)\n",
      "\u001b[36mFile \u001b[39m\u001b[32m/media/dinith/Academic/Next/gai/test1/tools/generated_tools.py:1\u001b[39m\n\u001b[32m----> \u001b[39m\u001b[32m1\u001b[39m \u001b[38;5;129m@tool\u001b[39m\n\u001b[32m      2\u001b[39m \u001b[38;5;28;01mdef\u001b[39;00m\u001b[38;5;250m \u001b[39m\u001b[34mmultiply_numbers\u001b[39m(\u001b[38;5;28minput\u001b[39m: \u001b[38;5;28mstr\u001b[39m) -> \u001b[38;5;28mfloat\u001b[39m:\n\u001b[32m      3\u001b[39m \u001b[38;5;250m    \u001b[39m\u001b[33;03m\"\"\"\u001b[39;00m\n\u001b[32m      4\u001b[39m \u001b[33;03m    Returns the product of two numbers. Input should be a comma-separated string of two numbers (e.g., '5,10').\u001b[39;00m\n\u001b[32m      5\u001b[39m \u001b[33;03m    \"\"\"\u001b[39;00m\n\u001b[32m      6\u001b[39m     nums = \u001b[38;5;28minput\u001b[39m.split(\u001b[33m'\u001b[39m\u001b[33m,\u001b[39m\u001b[33m'\u001b[39m); num1 = \u001b[38;5;28mfloat\u001b[39m(nums[\u001b[32m0\u001b[39m]); num2 = \u001b[38;5;28mfloat\u001b[39m(nums[\u001b[32m1\u001b[39m]); \u001b[38;5;28;01mreturn\u001b[39;00m num1 * num2\n",
      "\u001b[31mNameError\u001b[39m: name 'tool' is not defined"
     ]
    }
   ],
   "source": [
    "import importlib\n",
    "import tools.generated_tools\n",
    "\n",
    "importlib.reload(tools.generated_tools)\n",
    "generated_tools = load_generated_tools(\"tools.generated_tools\")\n"
   ]
  },
  {
   "cell_type": "code",
   "execution_count": null,
   "id": "05463f48",
   "metadata": {},
   "outputs": [],
   "source": []
  }
 ],
 "metadata": {
  "kernelspec": {
   "display_name": ".venv (3.13.5)",
   "language": "python",
   "name": "python3"
  },
  "language_info": {
   "codemirror_mode": {
    "name": "ipython",
    "version": 3
   },
   "file_extension": ".py",
   "mimetype": "text/x-python",
   "name": "python",
   "nbconvert_exporter": "python",
   "pygments_lexer": "ipython3",
   "version": "3.13.5"
  }
 },
 "nbformat": 4,
 "nbformat_minor": 5
}
