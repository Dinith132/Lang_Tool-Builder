{
 "cells": [
  {
   "cell_type": "code",
   "execution_count": 10,
   "id": "9bad31ee",
   "metadata": {},
   "outputs": [
    {
     "name": "stdout",
     "output_type": "stream",
     "text": [
      "['subtract']\n"
     ]
    }
   ],
   "source": [
    "import yaml\n",
    "import importlib\n",
    "from langchain_core.tools import tool\n",
    "\n",
    "def load_tools_from_yaml(config_path):\n",
    "    with open(config_path) as f:\n",
    "        config = yaml.safe_load(f)\n",
    "\n",
    "    tools = []\n",
    "    for t in config['tools']:\n",
    "        mod = importlib.import_module(t['module'])\n",
    "        func = getattr(mod, t['function'])\n",
    "        tools.append(func)\n",
    "\n",
    "    return tools\n",
    "\n",
    "tools = load_tools_from_yaml(\"configs/tools.yaml\")\n",
    "print([t.__name__ for t in tools])  # Should print ['addition', 'subtract1']\n"
   ]
  },
  {
   "cell_type": "code",
   "execution_count": null,
   "id": "89f165d9",
   "metadata": {},
   "outputs": [
    {
     "data": {
      "text/plain": [
       "0.0"
      ]
     },
     "execution_count": 11,
     "metadata": {},
     "output_type": "execute_result"
    }
   ],
   "source": [
    "# tools[-1](\"1,1\")"
   ]
  },
  {
   "cell_type": "code",
   "execution_count": null,
   "id": "54b6a389",
   "metadata": {},
   "outputs": [],
   "source": []
  }
 ],
 "metadata": {
  "kernelspec": {
   "display_name": ".venv",
   "language": "python",
   "name": "python3"
  },
  "language_info": {
   "codemirror_mode": {
    "name": "ipython",
    "version": 3
   },
   "file_extension": ".py",
   "mimetype": "text/x-python",
   "name": "python",
   "nbconvert_exporter": "python",
   "pygments_lexer": "ipython3",
   "version": "3.13.5"
  }
 },
 "nbformat": 4,
 "nbformat_minor": 5
}
