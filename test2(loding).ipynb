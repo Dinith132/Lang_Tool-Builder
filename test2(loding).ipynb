{
 "cells": [
  {
   "cell_type": "code",
   "execution_count": 6,
   "id": "9bad31ee",
   "metadata": {},
   "outputs": [
    {
     "name": "stdout",
     "output_type": "stream",
     "text": [
      "\n",
      "🔧 Loading tool: subtract\n",
      "📦 Module Loaded: tools.math_tools\n",
      "\n",
      "⚠️ Could not retrieve source for: subtract (maybe built-in or C-extension?)\n",
      "\n",
      "🔧 Loading tool: addition\n",
      "📦 Module Loaded: tools.math_tools\n",
      "\n",
      "⚠️ Could not retrieve source for: addition (maybe built-in or C-extension?)\n"
     ]
    },
    {
     "ename": "AttributeError",
     "evalue": "'StructuredTool' object has no attribute '__name__'",
     "output_type": "error",
     "traceback": [
      "\u001b[31m---------------------------------------------------------------------------\u001b[39m",
      "\u001b[31mAttributeError\u001b[39m                            Traceback (most recent call last)",
      "\u001b[36mCell\u001b[39m\u001b[36m \u001b[39m\u001b[32mIn[6]\u001b[39m\u001b[32m, line 33\u001b[39m\n\u001b[32m     31\u001b[39m \u001b[38;5;66;03m# Load and print names\u001b[39;00m\n\u001b[32m     32\u001b[39m tools = load_tools_from_yaml(\u001b[33m\"\u001b[39m\u001b[33mconfigs/tools.yaml\u001b[39m\u001b[33m\"\u001b[39m)\n\u001b[32m---> \u001b[39m\u001b[32m33\u001b[39m \u001b[38;5;28mprint\u001b[39m(\u001b[33m\"\u001b[39m\u001b[38;5;130;01m\\n\u001b[39;00m\u001b[33m✅ Loaded Tools:\u001b[39m\u001b[33m\"\u001b[39m, [\u001b[43mt\u001b[49m\u001b[43m.\u001b[49m\u001b[34;43m__name__\u001b[39;49m \u001b[38;5;28;01mfor\u001b[39;00m t \u001b[38;5;129;01min\u001b[39;00m tools])\n",
      "\u001b[36mFile \u001b[39m\u001b[32m/media/dinith/Academic/.venv/lib/python3.13/site-packages/pydantic/main.py:988\u001b[39m, in \u001b[36mBaseModel.__getattr__\u001b[39m\u001b[34m(self, item)\u001b[39m\n\u001b[32m    986\u001b[39m \u001b[38;5;28;01melse\u001b[39;00m:\n\u001b[32m    987\u001b[39m     \u001b[38;5;28;01mif\u001b[39;00m \u001b[38;5;28mhasattr\u001b[39m(\u001b[38;5;28mself\u001b[39m.\u001b[34m__class__\u001b[39m, item):\n\u001b[32m--> \u001b[39m\u001b[32m988\u001b[39m         \u001b[38;5;28;01mreturn\u001b[39;00m \u001b[38;5;28;43msuper\u001b[39;49m\u001b[43m(\u001b[49m\u001b[43m)\u001b[49m\u001b[43m.\u001b[49m\u001b[34;43m__getattribute__\u001b[39;49m\u001b[43m(\u001b[49m\u001b[43mitem\u001b[49m\u001b[43m)\u001b[49m  \u001b[38;5;66;03m# Raises AttributeError if appropriate\u001b[39;00m\n\u001b[32m    989\u001b[39m     \u001b[38;5;28;01melse\u001b[39;00m:\n\u001b[32m    990\u001b[39m         \u001b[38;5;66;03m# this is the current error\u001b[39;00m\n\u001b[32m    991\u001b[39m         \u001b[38;5;28;01mraise\u001b[39;00m \u001b[38;5;167;01mAttributeError\u001b[39;00m(\u001b[33mf\u001b[39m\u001b[33m'\u001b[39m\u001b[38;5;132;01m{\u001b[39;00m\u001b[38;5;28mtype\u001b[39m(\u001b[38;5;28mself\u001b[39m).\u001b[34m__name__\u001b[39m\u001b[38;5;132;01m!r}\u001b[39;00m\u001b[33m object has no attribute \u001b[39m\u001b[38;5;132;01m{\u001b[39;00mitem\u001b[38;5;132;01m!r}\u001b[39;00m\u001b[33m'\u001b[39m)\n",
      "\u001b[31mAttributeError\u001b[39m: 'StructuredTool' object has no attribute '__name__'"
     ]
    }
   ],
   "source": [
    "import yaml\n",
    "import importlib\n",
    "import inspect\n",
    "from langchain_core.tools import tool\n",
    "\n",
    "def load_tools_from_yaml(config_path):\n",
    "    with open(config_path) as f:\n",
    "        config = yaml.safe_load(f)\n",
    "\n",
    "    tools = []\n",
    "    for t in config['tools']:\n",
    "        print(f\"\\n🔧 Loading tool: {t['name']}\")\n",
    "        mod = importlib.import_module(t['module'])\n",
    "        print(f\"📦 Module Loaded: {mod.__name__}\")\n",
    "\n",
    "        if not hasattr(mod, t['function']):\n",
    "            raise AttributeError(f\"\\n❌ Function '{t['function']}' not found in module '{t['module']}'\\n\")\n",
    "\n",
    "        func = getattr(mod, t['function'])\n",
    "        tools.append(func)\n",
    "\n",
    "        # Print function source code\n",
    "        try:\n",
    "            source = inspect.getsource(func)\n",
    "            print(f\"\\n📄 Source code of '{t['function']}':\\n{source}\")\n",
    "        except (TypeError, OSError):\n",
    "            print(f\"\\n⚠️ Could not retrieve source for: {t['function']} (maybe built-in or C-extension?)\")\n",
    "\n",
    "    return tools\n",
    "\n",
    "# Load and print names\n",
    "tools = load_tools_from_yaml(\"configs/tools.yaml\")\n",
    "print(\"\\n✅ Loaded Tools:\", [t.__name__ for t in tools])\n"
   ]
  },
  {
   "cell_type": "code",
   "execution_count": 38,
   "id": "89f165d9",
   "metadata": {},
   "outputs": [],
   "source": [
    "# rm -rf /media/dinith/Academic/Next/gai/test1/tools/__pycache__"
   ]
  },
  {
   "cell_type": "code",
   "execution_count": 39,
   "id": "54b6a389",
   "metadata": {},
   "outputs": [
    {
     "name": "stdout",
     "output_type": "stream",
     "text": [
      "subtract('5,3') => 2.0\n",
      "addition('5,3') => 8.0\n"
     ]
    }
   ],
   "source": [
    "for tool_func in tools:\n",
    "    try:\n",
    "        result = tool_func(\"5,3\")\n",
    "        print(f\"{tool_func.__name__}('5,3') => {result}\")\n",
    "    except Exception as e:\n",
    "        print(f\"Error calling {tool_func.__name__}: {e}\")\n"
   ]
  },
  {
   "cell_type": "code",
   "execution_count": null,
   "id": "df93ee05",
   "metadata": {},
   "outputs": [],
   "source": []
  }
 ],
 "metadata": {
  "kernelspec": {
   "display_name": ".venv (3.13.5)",
   "language": "python",
   "name": "python3"
  },
  "language_info": {
   "codemirror_mode": {
    "name": "ipython",
    "version": 3
   },
   "file_extension": ".py",
   "mimetype": "text/x-python",
   "name": "python",
   "nbconvert_exporter": "python",
   "pygments_lexer": "ipython3",
   "version": "3.13.5"
  }
 },
 "nbformat": 4,
 "nbformat_minor": 5
}
