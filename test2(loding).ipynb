{
 "cells": [
  {
   "cell_type": "code",
   "execution_count": 7,
   "id": "9bad31ee",
   "metadata": {},
   "outputs": [
    {
     "name": "stdout",
     "output_type": "stream",
     "text": [
      "Loading tool: subtract\n",
      "Module Loaded: <module 'tools.math_tools' from '/media/dinith/Academic/Next/gai/test1/tools/math_tools.py'>\n",
      "Module Attributes: ['__builtins__', '__cached__', '__doc__', '__file__', '__loader__', '__name__', '__package__', '__spec__', 'addition', 'subtract']\n",
      "Loading tool: addition\n",
      "Module Loaded: <module 'tools.math_tools' from '/media/dinith/Academic/Next/gai/test1/tools/math_tools.py'>\n",
      "Module Attributes: ['__builtins__', '__cached__', '__doc__', '__file__', '__loader__', '__name__', '__package__', '__spec__', 'addition', 'subtract']\n",
      "['subtract', 'addition']\n"
     ]
    }
   ],
   "source": [
    "import yaml\n",
    "import importlib\n",
    "from langchain_core.tools import tool\n",
    "\n",
    "def load_tools_from_yaml(config_path):\n",
    "    with open(config_path) as f:\n",
    "        config = yaml.safe_load(f)\n",
    "\n",
    "    tools = []\n",
    "    for t in config['tools']:\n",
    "        print(f\"Loading tool: {t['name']}\")\n",
    "        mod = importlib.import_module(t['module'])\n",
    "        print(f\"Module Loaded: {mod}\")\n",
    "        print(\"Module Attributes:\", dir(mod)) \n",
    "        if not hasattr(mod, t['function']):\n",
    "            raise AttributeError(f\"\\n❌ Function '{t['function']}' not found in module '{t['module']}'\\n\")\n",
    "        func = getattr(mod, t['function'])\n",
    "        tools.append(func)\n",
    "\n",
    "    return tools\n",
    "\n",
    "\n",
    "tools = load_tools_from_yaml(\"configs/tools.yaml\")\n",
    "print([t.__name__ for t in tools])\n"
   ]
  },
  {
   "cell_type": "code",
   "execution_count": 5,
   "id": "89f165d9",
   "metadata": {},
   "outputs": [],
   "source": [
    "rm -rf /media/dinith/Academic/Next/gai/test1/tools/__pycache__"
   ]
  },
  {
   "cell_type": "code",
   "execution_count": null,
   "id": "54b6a389",
   "metadata": {},
   "outputs": [],
   "source": []
  }
 ],
 "metadata": {
  "kernelspec": {
   "display_name": ".venv (3.13.5)",
   "language": "python",
   "name": "python3"
  },
  "language_info": {
   "codemirror_mode": {
    "name": "ipython",
    "version": 3
   },
   "file_extension": ".py",
   "mimetype": "text/x-python",
   "name": "python",
   "nbconvert_exporter": "python",
   "pygments_lexer": "ipython3",
   "version": "3.13.5"
  }
 },
 "nbformat": 4,
 "nbformat_minor": 5
}
